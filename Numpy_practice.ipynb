{
  "nbformat": 4,
  "nbformat_minor": 0,
  "metadata": {
    "colab": {
      "name": "Numpy_practice.ipynb",
      "provenance": [],
      "authorship_tag": "ABX9TyPq1pEpeROTf/MIvOzRXlNc",
      "include_colab_link": true
    },
    "kernelspec": {
      "name": "python3",
      "display_name": "Python 3"
    },
    "language_info": {
      "name": "python"
    }
  },
  "cells": [
    {
      "cell_type": "markdown",
      "metadata": {
        "id": "view-in-github",
        "colab_type": "text"
      },
      "source": [
        "<a href=\"https://colab.research.google.com/github/SanketH17/my_general_ML_stuffs/blob/main/Numpy_practice.ipynb\" target=\"_parent\"><img src=\"https://colab.research.google.com/assets/colab-badge.svg\" alt=\"Open In Colab\"/></a>"
      ]
    },
    {
      "cell_type": "code",
      "metadata": {
        "colab": {
          "base_uri": "https://localhost:8080/"
        },
        "id": "P0NlDaoeigYW",
        "outputId": "fcfcf6d9-f253-447e-a854-5d9fb4bfe911"
      },
      "source": [
        "pip install numpy"
      ],
      "execution_count": 168,
      "outputs": [
        {
          "output_type": "stream",
          "text": [
            "Requirement already satisfied: numpy in /usr/local/lib/python3.7/dist-packages (1.19.5)\n"
          ],
          "name": "stdout"
        }
      ]
    },
    {
      "cell_type": "code",
      "metadata": {
        "id": "g7ddk0TpkEig"
      },
      "source": [
        "import numpy as np"
      ],
      "execution_count": 169,
      "outputs": []
    },
    {
      "cell_type": "code",
      "metadata": {
        "id": "MFUWTHz2kH51"
      },
      "source": [
        "my_list = [1,2,3,4,5]\n",
        "arr = np.array(my_list)"
      ],
      "execution_count": 170,
      "outputs": []
    },
    {
      "cell_type": "code",
      "metadata": {
        "colab": {
          "base_uri": "https://localhost:8080/"
        },
        "id": "ocyeAImoknnl",
        "outputId": "2874b943-b400-41ca-9045-6c7ec37a3947"
      },
      "source": [
        "print(arr)"
      ],
      "execution_count": 171,
      "outputs": [
        {
          "output_type": "stream",
          "text": [
            "[1 2 3 4 5]\n"
          ],
          "name": "stdout"
        }
      ]
    },
    {
      "cell_type": "code",
      "metadata": {
        "colab": {
          "base_uri": "https://localhost:8080/"
        },
        "id": "qpIK9Xiukp5o",
        "outputId": "a6056fa1-45d2-47da-a5d0-c67ad5b66278"
      },
      "source": [
        "arr"
      ],
      "execution_count": 172,
      "outputs": [
        {
          "output_type": "execute_result",
          "data": {
            "text/plain": [
              "array([1, 2, 3, 4, 5])"
            ]
          },
          "metadata": {
            "tags": []
          },
          "execution_count": 172
        }
      ]
    },
    {
      "cell_type": "code",
      "metadata": {
        "colab": {
          "base_uri": "https://localhost:8080/"
        },
        "id": "-7z1p96ZkuHW",
        "outputId": "38de7faa-081a-4ad0-fb1e-df388bf43d34"
      },
      "source": [
        "arr.shape"
      ],
      "execution_count": 173,
      "outputs": [
        {
          "output_type": "execute_result",
          "data": {
            "text/plain": [
              "(5,)"
            ]
          },
          "metadata": {
            "tags": []
          },
          "execution_count": 173
        }
      ]
    },
    {
      "cell_type": "code",
      "metadata": {
        "id": "Y7tvtna8k4XW"
      },
      "source": [
        "my_list1 = [1,2,3,4,5]\n",
        "my_list2 = [2,3,4,5,6]\n",
        "my_list3 = [7,5,6,4,8]\n",
        "\n",
        "arr = np.array([my_list1,my_list2,my_list3])"
      ],
      "execution_count": 174,
      "outputs": []
    },
    {
      "cell_type": "code",
      "metadata": {
        "colab": {
          "base_uri": "https://localhost:8080/"
        },
        "id": "TqQFQggulid9",
        "outputId": "d9fc9d61-d701-4b5b-da3e-a62a39dbdafe"
      },
      "source": [
        "arr"
      ],
      "execution_count": 175,
      "outputs": [
        {
          "output_type": "execute_result",
          "data": {
            "text/plain": [
              "array([[1, 2, 3, 4, 5],\n",
              "       [2, 3, 4, 5, 6],\n",
              "       [7, 5, 6, 4, 8]])"
            ]
          },
          "metadata": {
            "tags": []
          },
          "execution_count": 175
        }
      ]
    },
    {
      "cell_type": "code",
      "metadata": {
        "colab": {
          "base_uri": "https://localhost:8080/"
        },
        "id": "KnhYDWF1ljqb",
        "outputId": "a281284a-50ec-4b83-b5e5-1cd5143fcaa3"
      },
      "source": [
        "print(arr)"
      ],
      "execution_count": 176,
      "outputs": [
        {
          "output_type": "stream",
          "text": [
            "[[1 2 3 4 5]\n",
            " [2 3 4 5 6]\n",
            " [7 5 6 4 8]]\n"
          ],
          "name": "stdout"
        }
      ]
    },
    {
      "cell_type": "code",
      "metadata": {
        "colab": {
          "base_uri": "https://localhost:8080/"
        },
        "id": "TBNtKxNQllNl",
        "outputId": "5f80e11f-cd63-4910-a4be-6a7be1006a10"
      },
      "source": [
        "arr.shape  #(row,col)"
      ],
      "execution_count": 177,
      "outputs": [
        {
          "output_type": "execute_result",
          "data": {
            "text/plain": [
              "(3, 5)"
            ]
          },
          "metadata": {
            "tags": []
          },
          "execution_count": 177
        }
      ]
    },
    {
      "cell_type": "code",
      "metadata": {
        "id": "gRmIztyolnyB"
      },
      "source": [
        "arr2 = arr.reshape(5,3)"
      ],
      "execution_count": 178,
      "outputs": []
    },
    {
      "cell_type": "code",
      "metadata": {
        "colab": {
          "base_uri": "https://localhost:8080/"
        },
        "id": "QKN2fFjVmR4n",
        "outputId": "608ed636-3355-4b06-d312-00b7fc22ca01"
      },
      "source": [
        "arr2"
      ],
      "execution_count": 179,
      "outputs": [
        {
          "output_type": "execute_result",
          "data": {
            "text/plain": [
              "array([[1, 2, 3],\n",
              "       [4, 5, 2],\n",
              "       [3, 4, 5],\n",
              "       [6, 7, 5],\n",
              "       [6, 4, 8]])"
            ]
          },
          "metadata": {
            "tags": []
          },
          "execution_count": 179
        }
      ]
    },
    {
      "cell_type": "code",
      "metadata": {
        "colab": {
          "base_uri": "https://localhost:8080/"
        },
        "id": "jWSgQjlqmXBJ",
        "outputId": "4058a22c-33d5-48bb-bc87-f7efb69a67f2"
      },
      "source": [
        "print(arr2)"
      ],
      "execution_count": 180,
      "outputs": [
        {
          "output_type": "stream",
          "text": [
            "[[1 2 3]\n",
            " [4 5 2]\n",
            " [3 4 5]\n",
            " [6 7 5]\n",
            " [6 4 8]]\n"
          ],
          "name": "stdout"
        }
      ]
    },
    {
      "cell_type": "code",
      "metadata": {
        "colab": {
          "base_uri": "https://localhost:8080/"
        },
        "id": "im4SrtrGmp1R",
        "outputId": "3ace210d-584d-4816-f06e-5666f38e2033"
      },
      "source": [
        "arr2.reshape(1,15)"
      ],
      "execution_count": 181,
      "outputs": [
        {
          "output_type": "execute_result",
          "data": {
            "text/plain": [
              "array([[1, 2, 3, 4, 5, 2, 3, 4, 5, 6, 7, 5, 6, 4, 8]])"
            ]
          },
          "metadata": {
            "tags": []
          },
          "execution_count": 181
        }
      ]
    },
    {
      "cell_type": "markdown",
      "metadata": {
        "id": "BxV2rFWtm61j"
      },
      "source": [
        "###Indexing"
      ]
    },
    {
      "cell_type": "code",
      "metadata": {
        "id": "dx8ZC_tAm9in"
      },
      "source": [
        "arr = np.array([1,2,3,4,5,6,7,8,9])"
      ],
      "execution_count": 182,
      "outputs": []
    },
    {
      "cell_type": "code",
      "metadata": {
        "colab": {
          "base_uri": "https://localhost:8080/"
        },
        "id": "fK0JBhXZnSnt",
        "outputId": "6cf0a0e2-b7b6-4261-fea3-7e34c23ef179"
      },
      "source": [
        "arr[3]"
      ],
      "execution_count": 183,
      "outputs": [
        {
          "output_type": "execute_result",
          "data": {
            "text/plain": [
              "4"
            ]
          },
          "metadata": {
            "tags": []
          },
          "execution_count": 183
        }
      ]
    },
    {
      "cell_type": "code",
      "metadata": {
        "id": "wlqR569jnWKX"
      },
      "source": [
        "my_list1 = [1,2,3,4,5]\n",
        "my_list2 = [2,3,4,5,6]\n",
        "my_list3 = [7,5,6,4,8]\n",
        "\n",
        "arr = np.array([my_list1,my_list2,my_list3])"
      ],
      "execution_count": 199,
      "outputs": []
    },
    {
      "cell_type": "code",
      "metadata": {
        "colab": {
          "base_uri": "https://localhost:8080/"
        },
        "id": "7ZK3kvuX7FU_",
        "outputId": "a6f10cb0-d1f1-45ad-ac98-ddf10a7a51fc"
      },
      "source": [
        "arr"
      ],
      "execution_count": 200,
      "outputs": [
        {
          "output_type": "execute_result",
          "data": {
            "text/plain": [
              "array([[1, 2, 3, 4, 5],\n",
              "       [2, 3, 4, 5, 6],\n",
              "       [7, 5, 6, 4, 8]])"
            ]
          },
          "metadata": {
            "tags": []
          },
          "execution_count": 200
        }
      ]
    },
    {
      "cell_type": "code",
      "metadata": {
        "colab": {
          "base_uri": "https://localhost:8080/"
        },
        "id": "4M8GoBE8oMYZ",
        "outputId": "e6c4a62a-62ab-4c90-f21a-3ad8a314d19c"
      },
      "source": [
        "arr[1: ,:]"
      ],
      "execution_count": 203,
      "outputs": [
        {
          "output_type": "execute_result",
          "data": {
            "text/plain": [
              "array([[2, 3, 4, 5, 6],\n",
              "       [7, 5, 6, 4, 8]])"
            ]
          },
          "metadata": {
            "tags": []
          },
          "execution_count": 203
        }
      ]
    },
    {
      "cell_type": "code",
      "metadata": {
        "id": "Cu4YTQYipQmr"
      },
      "source": [
        "arr = np.arange(0,10,step=2)"
      ],
      "execution_count": 204,
      "outputs": []
    },
    {
      "cell_type": "code",
      "metadata": {
        "colab": {
          "base_uri": "https://localhost:8080/"
        },
        "id": "GcIs5PW3qKQx",
        "outputId": "29596d77-60b3-4a89-81d5-69f248256dff"
      },
      "source": [
        "print(arr)"
      ],
      "execution_count": 205,
      "outputs": [
        {
          "output_type": "stream",
          "text": [
            "[0 2 4 6 8]\n"
          ],
          "name": "stdout"
        }
      ]
    },
    {
      "cell_type": "code",
      "metadata": {
        "colab": {
          "base_uri": "https://localhost:8080/"
        },
        "id": "tyVhTyTEqRGt",
        "outputId": "954df1e1-ed0a-4855-c641-02aa6f7f16a0"
      },
      "source": [
        "arr"
      ],
      "execution_count": 206,
      "outputs": [
        {
          "output_type": "execute_result",
          "data": {
            "text/plain": [
              "array([0, 2, 4, 6, 8])"
            ]
          },
          "metadata": {
            "tags": []
          },
          "execution_count": 206
        }
      ]
    },
    {
      "cell_type": "code",
      "metadata": {
        "colab": {
          "base_uri": "https://localhost:8080/"
        },
        "id": "tz7IULnjqSI0",
        "outputId": "d8a3c3e6-8c14-468b-9c3b-95eeda9305dd"
      },
      "source": [
        "np.linspace(0,10,40) #the number of points between 0 and 10 = 40 which are equally spaced"
      ],
      "execution_count": 207,
      "outputs": [
        {
          "output_type": "execute_result",
          "data": {
            "text/plain": [
              "array([ 0.        ,  0.25641026,  0.51282051,  0.76923077,  1.02564103,\n",
              "        1.28205128,  1.53846154,  1.79487179,  2.05128205,  2.30769231,\n",
              "        2.56410256,  2.82051282,  3.07692308,  3.33333333,  3.58974359,\n",
              "        3.84615385,  4.1025641 ,  4.35897436,  4.61538462,  4.87179487,\n",
              "        5.12820513,  5.38461538,  5.64102564,  5.8974359 ,  6.15384615,\n",
              "        6.41025641,  6.66666667,  6.92307692,  7.17948718,  7.43589744,\n",
              "        7.69230769,  7.94871795,  8.20512821,  8.46153846,  8.71794872,\n",
              "        8.97435897,  9.23076923,  9.48717949,  9.74358974, 10.        ])"
            ]
          },
          "metadata": {
            "tags": []
          },
          "execution_count": 207
        }
      ]
    },
    {
      "cell_type": "code",
      "metadata": {
        "id": "_barYJHUq8Mh"
      },
      "source": [
        "#copy() function and broadcasting\n",
        "\n",
        "arr[3:] = 100"
      ],
      "execution_count": 210,
      "outputs": []
    },
    {
      "cell_type": "code",
      "metadata": {
        "colab": {
          "base_uri": "https://localhost:8080/"
        },
        "id": "dFg917oFr4jW",
        "outputId": "614c00a8-3dc0-4912-c43e-07ed9af9a7a7"
      },
      "source": [
        "arr"
      ],
      "execution_count": 212,
      "outputs": [
        {
          "output_type": "execute_result",
          "data": {
            "text/plain": [
              "array([  0,   2,   4, 100, 100])"
            ]
          },
          "metadata": {
            "tags": []
          },
          "execution_count": 212
        }
      ]
    },
    {
      "cell_type": "code",
      "metadata": {
        "id": "hFY83QH1r9NJ"
      },
      "source": [
        "arr1 = arr"
      ],
      "execution_count": 213,
      "outputs": []
    },
    {
      "cell_type": "code",
      "metadata": {
        "id": "1s4_XkZisHFD"
      },
      "source": [
        "arr1[3] = 500"
      ],
      "execution_count": 214,
      "outputs": []
    },
    {
      "cell_type": "code",
      "metadata": {
        "id": "PwATMWzysLs0"
      },
      "source": [
        "print(arr1)"
      ],
      "execution_count": null,
      "outputs": []
    },
    {
      "cell_type": "code",
      "metadata": {
        "id": "Vdy-bEq2sNM2"
      },
      "source": [
        "arr"
      ],
      "execution_count": null,
      "outputs": []
    },
    {
      "cell_type": "code",
      "metadata": {
        "colab": {
          "base_uri": "https://localhost:8080/"
        },
        "id": "og6oAtvGsaKS",
        "outputId": "9e2f0a5b-0562-4439-8038-21ff7d7a24b2"
      },
      "source": [
        "arr1 = arr.copy()\n",
        "arr1[3:] = 1000\n",
        "print(f'value of arr1 = {arr1}')\n",
        "print()\n",
        "print(f'Value of arr = {arr}')"
      ],
      "execution_count": 216,
      "outputs": [
        {
          "output_type": "stream",
          "text": [
            "value of arr1 = [   0    2    4 1000 1000]\n",
            "\n",
            "Value of arr = [  0   2   4 500 100]\n"
          ],
          "name": "stdout"
        }
      ]
    },
    {
      "cell_type": "code",
      "metadata": {
        "colab": {
          "base_uri": "https://localhost:8080/"
        },
        "id": "F24w1FZFtJHa",
        "outputId": "85a245f1-6389-4a1b-b0be-47c984dc8422"
      },
      "source": [
        "#some conditions are very useful in Exploratory Data Analysis\n",
        "\n",
        "val = 2\n",
        "arr[arr<101] "
      ],
      "execution_count": 217,
      "outputs": [
        {
          "output_type": "execute_result",
          "data": {
            "text/plain": [
              "array([  0,   2,   4, 100])"
            ]
          },
          "metadata": {
            "tags": []
          },
          "execution_count": 217
        }
      ]
    },
    {
      "cell_type": "code",
      "metadata": {
        "colab": {
          "base_uri": "https://localhost:8080/"
        },
        "id": "3OV1SOaOuQ8f",
        "outputId": "079a950b-9f03-4625-bf53-7bbb2290c929"
      },
      "source": [
        "temp = np.arange(1,21).reshape(5,4)\n",
        "print(f'temp =\\n {temp}')\n",
        "print()\n",
        "temp2 = np.arange(21,41).reshape(5,4)\n",
        "print(f'temp2 =\\n {temp2}')\n",
        "print()\n",
        "print(f'temp * temp2 = ')\n",
        "print(temp * temp2)"
      ],
      "execution_count": 218,
      "outputs": [
        {
          "output_type": "stream",
          "text": [
            "temp =\n",
            " [[ 1  2  3  4]\n",
            " [ 5  6  7  8]\n",
            " [ 9 10 11 12]\n",
            " [13 14 15 16]\n",
            " [17 18 19 20]]\n",
            "\n",
            "temp2 =\n",
            " [[21 22 23 24]\n",
            " [25 26 27 28]\n",
            " [29 30 31 32]\n",
            " [33 34 35 36]\n",
            " [37 38 39 40]]\n",
            "\n",
            "temp * temp2 = \n",
            "[[ 21  44  69  96]\n",
            " [125 156 189 224]\n",
            " [261 300 341 384]\n",
            " [429 476 525 576]\n",
            " [629 684 741 800]]\n"
          ],
          "name": "stdout"
        }
      ]
    },
    {
      "cell_type": "code",
      "metadata": {
        "colab": {
          "base_uri": "https://localhost:8080/"
        },
        "id": "G2EOti8jv6CH",
        "outputId": "2940b4b2-ec62-4e22-b63a-d93039782707"
      },
      "source": [
        "np.ones(4, dtype = int)"
      ],
      "execution_count": 219,
      "outputs": [
        {
          "output_type": "execute_result",
          "data": {
            "text/plain": [
              "array([1, 1, 1, 1])"
            ]
          },
          "metadata": {
            "tags": []
          },
          "execution_count": 219
        }
      ]
    },
    {
      "cell_type": "code",
      "metadata": {
        "id": "i3_imtVfx9tT"
      },
      "source": [
        "a = np.ones((10,10),dtype=int)"
      ],
      "execution_count": 220,
      "outputs": []
    },
    {
      "cell_type": "code",
      "metadata": {
        "colab": {
          "base_uri": "https://localhost:8080/"
        },
        "id": "VPWqYUR5yL5V",
        "outputId": "c97a4a9f-63c5-482c-8749-5af8578b75b7"
      },
      "source": [
        "print(a)"
      ],
      "execution_count": 221,
      "outputs": [
        {
          "output_type": "stream",
          "text": [
            "[[1 1 1 1 1 1 1 1 1 1]\n",
            " [1 1 1 1 1 1 1 1 1 1]\n",
            " [1 1 1 1 1 1 1 1 1 1]\n",
            " [1 1 1 1 1 1 1 1 1 1]\n",
            " [1 1 1 1 1 1 1 1 1 1]\n",
            " [1 1 1 1 1 1 1 1 1 1]\n",
            " [1 1 1 1 1 1 1 1 1 1]\n",
            " [1 1 1 1 1 1 1 1 1 1]\n",
            " [1 1 1 1 1 1 1 1 1 1]\n",
            " [1 1 1 1 1 1 1 1 1 1]]\n"
          ],
          "name": "stdout"
        }
      ]
    },
    {
      "cell_type": "code",
      "metadata": {
        "colab": {
          "base_uri": "https://localhost:8080/"
        },
        "id": "xE2i3oEjyP1k",
        "outputId": "a734d079-e9d3-4bd2-b4d7-629a9cf08895"
      },
      "source": [
        "#random distribution\n",
        "np.random.rand(15,5)"
      ],
      "execution_count": 222,
      "outputs": [
        {
          "output_type": "execute_result",
          "data": {
            "text/plain": [
              "array([[7.31559992e-01, 5.05956994e-01, 3.05524692e-01, 3.88685611e-01,\n",
              "        6.68010655e-02],\n",
              "       [3.03856053e-01, 5.42230443e-01, 2.59705807e-01, 9.25886699e-04,\n",
              "        4.27034224e-01],\n",
              "       [1.75630666e-01, 2.78328425e-01, 5.88103915e-02, 7.39455372e-01,\n",
              "        7.42802332e-02],\n",
              "       [4.46887989e-01, 1.92919161e-01, 1.17860123e-01, 1.80921877e-01,\n",
              "        2.44086015e-01],\n",
              "       [3.50209075e-01, 1.17385241e-02, 2.84188431e-01, 3.55953653e-01,\n",
              "        5.82411243e-01],\n",
              "       [4.87703169e-01, 3.90161776e-01, 1.18396061e-01, 2.32741833e-01,\n",
              "        2.94382908e-01],\n",
              "       [1.90552941e-01, 5.29736655e-01, 6.83512796e-01, 4.94899893e-02,\n",
              "        4.40471340e-01],\n",
              "       [7.04821624e-01, 7.22271975e-01, 9.90924245e-01, 5.41069890e-01,\n",
              "        2.18915656e-01],\n",
              "       [7.96051977e-01, 7.56645699e-01, 6.16241561e-02, 5.77751973e-01,\n",
              "        3.83419138e-01],\n",
              "       [1.31929270e-01, 4.05739925e-01, 2.95633624e-01, 1.85176198e-01,\n",
              "        7.26194734e-01],\n",
              "       [4.67795239e-01, 6.37999848e-01, 2.55910842e-01, 6.78110855e-01,\n",
              "        6.25198939e-01],\n",
              "       [8.78807630e-01, 6.27504530e-01, 4.92864279e-01, 1.94148230e-01,\n",
              "        8.05494263e-01],\n",
              "       [3.75790761e-01, 7.01437157e-01, 9.62013245e-01, 6.76680334e-01,\n",
              "        1.81846395e-01],\n",
              "       [4.36142453e-02, 2.11449717e-01, 5.57372232e-01, 3.54840724e-01,\n",
              "        9.15276080e-01],\n",
              "       [3.70413661e-01, 1.39794436e-01, 1.13810062e-01, 5.19873095e-01,\n",
              "        3.67962567e-01]])"
            ]
          },
          "metadata": {
            "tags": []
          },
          "execution_count": 222
        }
      ]
    },
    {
      "cell_type": "code",
      "metadata": {
        "id": "h0wMnkkMyuQd"
      },
      "source": [
        "arr_exp = np.random.randn(4,4)"
      ],
      "execution_count": 188,
      "outputs": []
    },
    {
      "cell_type": "code",
      "metadata": {
        "colab": {
          "base_uri": "https://localhost:8080/"
        },
        "id": "kwZgtNAdzUX2",
        "outputId": "bd85b94c-cc90-4d07-8b3c-a4467a9917f4"
      },
      "source": [
        "arr_exp"
      ],
      "execution_count": 189,
      "outputs": [
        {
          "output_type": "execute_result",
          "data": {
            "text/plain": [
              "array([[-0.88702304,  0.44084676, -0.94546565,  0.96186786],\n",
              "       [-0.32954359, -0.34561438, -0.16262016,  0.01870397],\n",
              "       [ 0.67568144, -1.22973778,  0.76405174, -0.90658337],\n",
              "       [ 0.39189693,  1.36678916, -0.14605778, -0.21716444]])"
            ]
          },
          "metadata": {
            "tags": []
          },
          "execution_count": 189
        }
      ]
    },
    {
      "cell_type": "code",
      "metadata": {
        "id": "6ArV16UEz1yb"
      },
      "source": [
        "rand_arr = np.random.randint(5,10,size=20)"
      ],
      "execution_count": 190,
      "outputs": []
    },
    {
      "cell_type": "code",
      "metadata": {
        "colab": {
          "base_uri": "https://localhost:8080/"
        },
        "id": "oEaSLEj60aSO",
        "outputId": "cb0cc048-da9f-4b36-eee0-4eb3449fde12"
      },
      "source": [
        "print(f'random array of size 20 and range(0,10) =  {rand_arr}')"
      ],
      "execution_count": 191,
      "outputs": [
        {
          "output_type": "stream",
          "text": [
            "random array of size 20 and range(0,10) =  [9 5 8 6 5 7 7 7 9 9 6 7 9 8 9 6 5 5 6 8]\n"
          ],
          "name": "stdout"
        }
      ]
    },
    {
      "cell_type": "code",
      "metadata": {
        "colab": {
          "base_uri": "https://localhost:8080/"
        },
        "id": "5Xi5HY0V3lIt",
        "outputId": "18d72d6d-1bc9-4e0b-a08f-ccc8af44a5fa"
      },
      "source": [
        "np.random.randint(90,100,size=20)"
      ],
      "execution_count": 192,
      "outputs": [
        {
          "output_type": "execute_result",
          "data": {
            "text/plain": [
              "array([97, 91, 91, 93, 98, 96, 90, 94, 95, 90, 93, 94, 94, 92, 94, 94, 90,\n",
              "       95, 99, 93])"
            ]
          },
          "metadata": {
            "tags": []
          },
          "execution_count": 192
        }
      ]
    },
    {
      "cell_type": "code",
      "metadata": {
        "colab": {
          "base_uri": "https://localhost:8080/"
        },
        "id": "GGq9NDPr33jA",
        "outputId": "7ad02147-230c-4876-b9f3-608b8f1ba92b"
      },
      "source": [
        "#np.random.random_sample((5,))\n",
        "np.random.random_sample((5,5))"
      ],
      "execution_count": 193,
      "outputs": [
        {
          "output_type": "execute_result",
          "data": {
            "text/plain": [
              "array([[0.464984  , 0.43557266, 0.55905591, 0.22390852, 0.79664449],\n",
              "       [0.31262314, 0.01776022, 0.4851723 , 0.93956917, 0.74851768],\n",
              "       [0.95245999, 0.88667783, 0.59040376, 0.40811088, 0.25308873],\n",
              "       [0.92783137, 0.48139572, 0.41643788, 0.47210152, 0.08278029],\n",
              "       [0.26049056, 0.41148758, 0.70004192, 0.82104561, 0.8830023 ]])"
            ]
          },
          "metadata": {
            "tags": []
          },
          "execution_count": 193
        }
      ]
    },
    {
      "cell_type": "code",
      "metadata": {
        "id": "mt9JfgUA0zEd"
      },
      "source": [
        "import seaborn as sns\n",
        "import pandas as pd"
      ],
      "execution_count": 194,
      "outputs": []
    },
    {
      "cell_type": "code",
      "metadata": {
        "colab": {
          "base_uri": "https://localhost:8080/",
          "height": 386
        },
        "id": "0_hA0JXI1rJW",
        "outputId": "e7053d53-58f0-4da9-887f-647f9e6a09ce"
      },
      "source": [
        "sns.displot(pd.DataFrame(arr_exp.reshape(16,1)))"
      ],
      "execution_count": 195,
      "outputs": [
        {
          "output_type": "execute_result",
          "data": {
            "text/plain": [
              "<seaborn.axisgrid.FacetGrid at 0x7fb677fca3d0>"
            ]
          },
          "metadata": {
            "tags": []
          },
          "execution_count": 195
        },
        {
          "output_type": "display_data",
          "data": {
            "image/png": "[encoded data removed]",
            "text/plain": [
              "<Figure size 402.25x360 with 1 Axes>"
            ]
          },
          "metadata": {
            "tags": [],
            "needs_background": "light"
          }
        }
      ]
    },
    {
      "cell_type": "code",
      "metadata": {
        "id": "_yWIApUs7yKw"
      },
      "source": [
        "b = np.random.random_sample((5,5))"
      ],
      "execution_count": 230,
      "outputs": []
    },
    {
      "cell_type": "code",
      "metadata": {
        "colab": {
          "base_uri": "https://localhost:8080/"
        },
        "id": "wuX8xnKn8KTT",
        "outputId": "8b7c8c2e-4bd3-48bc-e36a-e28568f53352"
      },
      "source": [
        "print(b)"
      ],
      "execution_count": 231,
      "outputs": [
        {
          "output_type": "stream",
          "text": [
            "[[0.65591466 0.83653507 0.68357931 0.59488317 0.43264802]\n",
            " [0.20078014 0.34928906 0.50736309 0.41538651 0.20628469]\n",
            " [0.11603146 0.80317926 0.83178932 0.64569013 0.66377175]\n",
            " [0.11045475 0.59365876 0.22309402 0.67541149 0.30769328]\n",
            " [0.82696017 0.76388726 0.88123042 0.2058027  0.51449676]]\n"
          ],
          "name": "stdout"
        }
      ]
    },
    {
      "cell_type": "code",
      "metadata": {
        "id": "WwXc8ni28NUI"
      },
      "source": [
        ""
      ],
      "execution_count": null,
      "outputs": []
    }
  ]
}